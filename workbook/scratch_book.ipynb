{
 "cells": [
  {
   "cell_type": "code",
   "execution_count": 9,
   "metadata": {},
   "outputs": [],
   "source": [
    "## open the team table from the ncaa website\n",
    "\n",
    "import pandas as pd\n",
    "import numpy as np\n",
    "\n",
    "# read in the team table\n",
    "ncaa_df = pd.read_csv('../data/ncaa_com_fbs_fcs_table.csv')"
   ]
  },
  {
   "cell_type": "code",
   "execution_count": 10,
   "metadata": {},
   "outputs": [
    {
     "data": {
      "text/plain": [
       "Index(['name', 'division', 'subdivision', 'conference_id', 'conference_name',\n",
       "       'reclass_year', 'reclass_division', 'reclass_subdivision', 'private',\n",
       "       'historically_black', 'region', 'state'],\n",
       "      dtype='object')"
      ]
     },
     "execution_count": 10,
     "metadata": {},
     "output_type": "execute_result"
    }
   ],
   "source": [
    "ncaa_df.columns"
   ]
  },
  {
   "cell_type": "code",
   "execution_count": 11,
   "metadata": {},
   "outputs": [
    {
     "data": {
      "text/plain": [
       "261"
      ]
     },
     "execution_count": 11,
     "metadata": {},
     "output_type": "execute_result"
    }
   ],
   "source": [
    "## create a simplified name column called 'team'\n",
    "# copy the name column to a new column called 'team'\n",
    "ncaa_df['team'] = ncaa_df['name']\n",
    "# Remove any instance of 'University of' or 'College' from the name\n",
    "ncaa_df['team'] = ncaa_df['team'].str.replace('University of', '')\n",
    "ncaa_df['team'] = ncaa_df['team'].str.replace('University at', '')\n",
    "ncaa_df['team'] = ncaa_df['team'].str.replace('College', '')\n",
    "ncaa_df['team'] = ncaa_df['team'].str.replace('University', '')\n",
    "# If there is a comma, remove it and everything after it\n",
    "ncaa_df['team'] = ncaa_df['team'].str.replace(',', '')\n",
    "# remove \"The \" and \"the \" but only if it's not at the end of the string\n",
    "ncaa_df['team'] = ncaa_df['team'].str.replace('The ', '')\n",
    "ncaa_df['team'] = ncaa_df['team'].str.replace('the ', '')\n",
    "\n",
    "# strip any leading or trailing whitespace\n",
    "ncaa_df['team'] = ncaa_df['team'].str.strip()\n",
    "# rename columns\n",
    "ncaa_df.rename(columns={'name': 'full_name'}, inplace=True)\n",
    "# team to simple_name\n",
    "ncaa_df.rename(columns={'team': 'simple_name'}, inplace=True)\n",
    "\n",
    "# Unique simple names\n",
    "ncaa_list = ncaa_df['simple_name'].unique()\n",
    "len(ncaa_df)\n",
    "# ncaa_df.head()\n",
    "\n",
    "\n"
   ]
  },
  {
   "cell_type": "code",
   "execution_count": 12,
   "metadata": {},
   "outputs": [
    {
     "data": {
      "text/plain": [
       "1350"
      ]
     },
     "execution_count": 12,
     "metadata": {},
     "output_type": "execute_result"
    }
   ],
   "source": [
    "\n",
    "## Load the yearly summary stats\n",
    "# read in the yearly summary stats\n",
    "\n",
    "stats_df = pd.read_csv('../data/cfb_yearly_summary_stats.csv')\n",
    "\n",
    "# stats_df.info()\n",
    "\n",
    "# get a list of all of the unique team names\n",
    "stats_list = stats_df['team'].unique()\n",
    "len(stats_list)"
   ]
  },
  {
   "cell_type": "code",
   "execution_count": 13,
   "metadata": {},
   "outputs": [],
   "source": [
    "## Make some changes to the ncaa_df to make matching easier\n",
    "\n",
    "# Tennessee-Chattanooga\tChattanooga\n",
    "# Miami  (OH)\tMiami (OH)\n",
    "# North Carolina A&T State\tNorth Carolina A&T\n",
    "# Saint Francis  (Pennsylvania)\tSt. Francis (Pennsylvania)\n",
    "\n",
    "\n",
    "# create a dictionary of the changes\n",
    "change_dict = {'U.S. Air Force Academy': 'Air Force',\n",
    "                'Alabama at Birmingham': 'Alabama-Birmingham',\n",
    "                'Arkansas Fayetteville': 'Arkansas',\n",
    "                'U.S. Military Academy': 'Army',\n",
    "                'Austin Peay State': 'Austin Peay',\n",
    "                'Boston': 'Boston University',\n",
    "                'Bowling Green State': 'Bowling Green',\n",
    "                'Buffalo State  New York': 'Buffalo',\n",
    "                'California Polytechnic State': 'Cal Poly',\n",
    "                'California Berkeley': 'California',\n",
    "                'North Carolina at Charlotte': 'Charlotte',\n",
    "                'Colorado Boulder': 'Colorado',\n",
    "\n",
    "                'California State  Fresno': 'Fresno State',\n",
    "                'Georgia Institute of Technology': 'Georgia Tech',\n",
    "                'Hawaii Manoa': 'Hawaii',\n",
    "                'of Holy Cross': 'Holy Cross',\n",
    "                'Houston Christian': 'Houston Baptist',\n",
    "                'Illinois Urbana-Champaign': 'Illinois',\n",
    "                'Indiana  Bloomington': 'Indiana',\n",
    "                'Louisiana at Lafayette': 'Lafayette',\n",
    "                'Maryland  Park': 'Maryland',\n",
    "                'Massachusetts Amherst': 'Massachusetts',\n",
    "                'Miami  (Ohio)': 'Miami  (OH)',\n",
    "                'Miami (Florida)': 'Miami (FL)',\n",
    "                'Minnesota Twin Cities': 'Minnesota',\n",
    "                'Missouri Columbia': 'Missouri',\n",
    "                'Montana State -Bozeman': 'Montana State',\n",
    "                'U.S. Naval Academy': 'Navy',\n",
    "                'Nebraska Lincoln': 'Nebraska',\n",
    "                'Nevada Reno': 'Nevada',\n",
    "                'North Carolina Chapel Hill': 'North Carolina',\n",
    "                'Pennsylvania State': 'Penn State',\n",
    "                'Rutgers State  New Jersey New Brunswick': 'Rutgers',\n",
    "                'California State  Sacramento': 'Sacramento State',\n",
    "                'Sam Houston State': 'Sam Houston',\n",
    "                'South Carolina Columbia': 'South Carolina',\n",
    "                'Southern Illinois  Carbondale': 'Southern Illinois',\n",
    "                'Stephen F. Austin State': 'Stephen F. Austin',\n",
    "                'Tennessee Knoxville': 'Tennessee',\n",
    "                'Tennessee Technological': 'Tennessee Tech',\n",
    "                'Tennessee at Chattanooga': 'Tennessee-Chattanooga',\n",
    "                'Tennessee at Martin': 'Tennessee-Martin',\n",
    "                'Texas at Austin': 'Texas',\n",
    "                'Texas A&M   Station': 'Texas A&M',\n",
    "                'Texas A&M -Commerce': 'Texas A&M-Commerce',\n",
    "                'Texas at El Paso': 'Texas-El Paso',\n",
    "                'Texas at San Antonio': 'Texas-San Antonio',\n",
    "                'California Los Angeles': 'UCLA',\n",
    "                'Virginia Polytechnic Institute and State': 'Virginia Tech',\n",
    "                'Wisconsin-Madison': 'Wisconsin',\n",
    "                'Tennessee-Chattanooga': 'Chattanooga',\n",
    "                'North Carolina A&T State':\t'North Carolina A&T',\n",
    "                'Saint Francis  (Pennsylvania)':\t'St. Francis (Pennsylvania)',\n",
    "                'Miami  (OH)':\t'Miami (OH)'\n",
    "                }\n",
    "\n",
    "# replace the values in the simple_name column\n",
    "ncaa_df['simple_name'].replace(change_dict, inplace=True)\n",
    "\n",
    "# Overwrite the list of unique simple names\n",
    "ncaa_list = ncaa_df['simple_name'].unique()\n",
    "\n",
    "# save the new ncaa_df to a csv\n",
    "ncaa_df.to_csv('../data/ncaa_com_fbs_fcs_table_corrected.csv', index=False)"
   ]
  },
  {
   "cell_type": "code",
   "execution_count": 14,
   "metadata": {},
   "outputs": [],
   "source": [
    "import fuzzywuzzy\n",
    "from fuzzywuzzy import process\n",
    "\n",
    "# match the names from the ncaa_df to the stats_df\n",
    "\n",
    "# create empty dictionary\n",
    "match_dict = {}\n",
    "\n",
    "# loop through the ncaa_df and find the closest match in the stats_df\n",
    "for ncaa_team in ncaa_list:\n",
    "    # get the closest match to the ncaa_team\n",
    "    match = process.extractOne(ncaa_team, stats_list)\n",
    "    # print the match\n",
    "    # print(match)\n",
    "    # add the match to the dictionary\n",
    "    match_dict[ncaa_team] = match\n",
    "\n",
    "# create a dataframe from the dictionary\n",
    "match_df = pd.DataFrame.from_dict(match_dict, orient='index')\n",
    "# name the coulmns\n",
    "match_df.columns = ['yearly_name', 'score']\n",
    "# copy the index into a new column\n",
    "match_df['ncaa_team'] = match_df.index\n",
    "# reset the index\n",
    "match_df.reset_index(inplace=True)\n",
    "# drop the old index\n",
    "match_df.drop(columns='index', inplace=True)"
   ]
  },
  {
   "cell_type": "code",
   "execution_count": 15,
   "metadata": {},
   "outputs": [
    {
     "data": {
      "text/plain": [
       "<AxesSubplot:>"
      ]
     },
     "execution_count": 15,
     "metadata": {},
     "output_type": "execute_result"
    },
    {
     "data": {
      "image/png": "[encoded data removed]",
      "text/plain": [
       "<Figure size 432x288 with 1 Axes>"
      ]
     },
     "metadata": {
      "needs_background": "light"
     },
     "output_type": "display_data"
    }
   ],
   "source": [
    "match_df.head()\n",
    "\n",
    "# histogram of the scores\n",
    "match_df['score'].hist()"
   ]
  },
  {
   "cell_type": "code",
   "execution_count": 16,
   "metadata": {},
   "outputs": [],
   "source": [
    "# output all of the matches with a score less than 100 to csv\n",
    "match_df[match_df['score'] < 100].to_csv('../TEMP/ncaa_match_df.csv', index=False)"
   ]
  }
 ],
 "metadata": {
  "kernelspec": {
   "display_name": "base",
   "language": "python",
   "name": "python3"
  },
  "language_info": {
   "codemirror_mode": {
    "name": "ipython",
    "version": 3
   },
   "file_extension": ".py",
   "mimetype": "text/x-python",
   "name": "python",
   "nbconvert_exporter": "python",
   "pygments_lexer": "ipython3",
   "version": "3.9.12"
  },
  "orig_nbformat": 4
 },
 "nbformat": 4,
 "nbformat_minor": 2
}
