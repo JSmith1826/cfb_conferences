{
 "cells": [
  {
   "cell_type": "code",
   "execution_count": 69,
   "metadata": {},
   "outputs": [],
   "source": [
    "## scrape and store the FBS and FCS member tables from the official NCAA website\n",
    "\n",
    "import pandas as pd\n",
    "import numpy as np\n",
    "import json\n",
    "\n",
    "\n",
    "\n",
    "import requests\n",
    "from bs4 import BeautifulSoup\n",
    "\n",
    "## Division 1 - FCS (Football Championship Subdivision) URL - returns JSON\n",
    "fcs_url = 'https://web3.ncaa.org/directory/api/directory/memberList?type=12&division=I-FCS&sportCode=MFB&_=1695167370986'\n",
    "\n",
    "## Division 1 - FBS (Football Bowl Subdivision) URL\n",
    "fbs_url = 'https://web3.ncaa.org/directory/api/directory/memberList?type=12&division=I-FBS&sportCode=MFB&_=1695166960182'\n",
    "\n",
    "# get the FCS data\n",
    "fcs_response = requests.get(fcs_url)\n",
    "fcs_list = json.loads(fcs_response.text) # load the JSON\n",
    "fcs_df = pd.DataFrame(fcs_list) # to dataframe\n",
    "\n",
    "# get the FBS data\n",
    "fbs_response = requests.get(fbs_url)\n",
    "fbs_list = json.loads(fbs_response.text) # load the JSON\n",
    "fbs_df = pd.DataFrame(fbs_list) # to dataframe\n",
    "\n",
    "# Concatenate the FCS and FBS dataframes\n",
    "df = pd.concat([fcs_df, fbs_df], ignore_index=True)\n",
    "# drop columns that have nan values\n",
    "df = ncaa_df.dropna(axis=1, how='all')\n",
    "# Extracting the 'state' key from the 'memberOrgAddress' column and creating a new column 'state'\n",
    "df['state'] = df['memberOrgAddress'].apply(lambda x: x.get('state', None) if isinstance(x, dict) else None)\n",
    "\n",
    "# Dropping the 'memberOrgAddress' column\n",
    "df.drop('memberOrgAddress', axis=1, inplace=True)\n",
    "\n",
    "## keep columns\n",
    "keep_col = ['nameOfficial', 'division', 'subdivision', 'conferenceId', 'conferenceName', \n",
    "            'reclassYear',  'reclassDivision', 'reclassSubdivision',\n",
    "            'privateFlag', 'historicallyBlackFlag', 'sportRegion', 'state']\n",
    "\n",
    "# keep just the columns we want\n",
    "df = df[keep_col]\n",
    "\n",
    "rename_col = ['name', 'division', 'subdivision', 'conference_id', 'conference_name',\n",
    "                'reclass_year', 'reclass_division', 'reclass_subdivision',\n",
    "                'private', 'historically_black', 'region', 'state']\n",
    "# remap the subdivision values 1 to FBS and 2 to FCS\n",
    "df['subdivision'] = df['subdivision'].map({1: 'FBS', 2: 'FCS'})\n",
    "\n",
    "# rename columns\n",
    "df.columns = rename_col\n",
    "\n",
    "df.head()\n",
    "\n",
    "# save csv file\n",
    "df.to_csv('../../data/ncaa_com_fbs_fcs_table', index=False)\n",
    "\n",
    "\n",
    "\n",
    "\n"
   ]
  },
  {
   "cell_type": "code",
   "execution_count": null,
   "metadata": {},
   "outputs": [],
   "source": [
    "df.columns"
   ]
  }
 ],
 "metadata": {
  "kernelspec": {
   "display_name": "base",
   "language": "python",
   "name": "python3"
  },
  "language_info": {
   "codemirror_mode": {
    "name": "ipython",
    "version": 3
   },
   "file_extension": ".py",
   "mimetype": "text/x-python",
   "name": "python",
   "nbconvert_exporter": "python",
   "pygments_lexer": "ipython3",
   "version": "3.9.12"
  },
  "orig_nbformat": 4
 },
 "nbformat": 4,
 "nbformat_minor": 2
}
