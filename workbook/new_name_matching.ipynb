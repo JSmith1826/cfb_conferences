{
 "cells": [
  {
   "cell_type": "code",
   "execution_count": 19,
   "metadata": {},
   "outputs": [],
   "source": [
    "### create school name matching dictionary\n",
    "\n",
    "import pandas as pd\n",
    "import numpy as np\n",
    "import fuzzywuzzy\n",
    "from fuzzywuzzy import process\n",
    "import re # RegEx for string matching"
   ]
  },
  {
   "cell_type": "code",
   "execution_count": 20,
   "metadata": {},
   "outputs": [],
   "source": [
    "wiki_df = pd.read_csv('../data/cfb_d1_teams_with_coordinates.csv')\n",
    "yearly_df = pd.read_csv('../data/cfb_yearly_summary_stats.csv')\n",
    "\n",
    "# lowercase column names for easier manipulation\n",
    "wiki_df.columns = wiki_df.columns.str.lower()\n",
    "yearly_df.columns = yearly_df.columns.str.lower()"
   ]
  },
  {
   "cell_type": "code",
   "execution_count": 21,
   "metadata": {},
   "outputs": [
    {
     "data": {
      "text/plain": [
       "Index(['team', 'nickname', 'city', 'state', 'enrollment', 'currentconference',\n",
       "       'formerconferences', 'firstplayed', 'joinedfbs', 'latitude',\n",
       "       'longitude'],\n",
       "      dtype='object')"
      ]
     },
     "execution_count": 21,
     "metadata": {},
     "output_type": "execute_result"
    }
   ],
   "source": [
    "# yearly_df.columns\n",
    "wiki_df.columns\n"
   ]
  },
  {
   "cell_type": "code",
   "execution_count": 22,
   "metadata": {},
   "outputs": [],
   "source": [
    "\n",
    "# make adjustments to names from wiki_df to match yearly_df\n",
    "\n",
    "\n",
    "# create dictionary of name changes\n",
    "name_changes = {'BYU':'Brigham Young', 'FIU':'Florida International', 'LSU':'Louisiana State', \n",
    "                'Middle Tennessee':'Middle Tennessee State', 'NC State':'North Carolina State',\n",
    "                'Ole Miss':'Mississippi', 'Oregon[n 14]':'Oregon', 'SMU':'Southern Methodist', \n",
    "                'Southern Miss':'Southern Mississippi', 'TCU':'Texas Christian', 'UAB':'Alabama-Birmingham', \n",
    "                'UCF':'Central Florida', 'UConn':'Connecticut', 'UMass':'Massachusetts', \n",
    "                'UNLV':'Nevada-Las Vegas', 'USC':'Southern California', 'UTEP':'Texas-El Paso', \n",
    "                'UTSA':'Texas-San Antonio'}\n",
    "\n",
    "# apply name changes to wiki_df\n",
    "wiki_df['team'] = wiki_df['team'].replace(name_changes)\n",
    "\n",
    "# save the new wiki_df to a csv\n",
    "wiki_df.to_csv('../data/cfb_d1_teams_with_coordinates.csv', index=False)\n"
   ]
  },
  {
   "cell_type": "code",
   "execution_count": 23,
   "metadata": {},
   "outputs": [],
   "source": [
    "## Create a dictionary of school names from wikipedia and yearly_df\n",
    "\n",
    "# Create a list of school names from wikipedia\n",
    "wiki_schools = wiki_df['team'].tolist()\n",
    "\n",
    "# Create a list of school names from yearly_df\n",
    "yearly_schools = yearly_df['team'].tolist()\n",
    "# keep only unique school names\n",
    "yearly_schools = list(set(yearly_schools))\n",
    "\n"
   ]
  },
  {
   "cell_type": "code",
   "execution_count": null,
   "metadata": {},
   "outputs": [],
   "source": []
  },
  {
   "cell_type": "code",
   "execution_count": 24,
   "metadata": {},
   "outputs": [
    {
     "data": {
      "text/plain": [
       "1350"
      ]
     },
     "execution_count": 24,
     "metadata": {},
     "output_type": "execute_result"
    }
   ],
   "source": [
    "len(wiki_schools)\n",
    "len(yearly_schools)"
   ]
  },
  {
   "cell_type": "code",
   "execution_count": 25,
   "metadata": {},
   "outputs": [
    {
     "data": {
      "text/html": [
       "<div>\n",
       "<style scoped>\n",
       "    .dataframe tbody tr th:only-of-type {\n",
       "        vertical-align: middle;\n",
       "    }\n",
       "\n",
       "    .dataframe tbody tr th {\n",
       "        vertical-align: top;\n",
       "    }\n",
       "\n",
       "    .dataframe thead th {\n",
       "        text-align: right;\n",
       "    }\n",
       "</style>\n",
       "<table border=\"1\" class=\"dataframe\">\n",
       "  <thead>\n",
       "    <tr style=\"text-align: right;\">\n",
       "      <th></th>\n",
       "      <th>yearly_name</th>\n",
       "      <th>score</th>\n",
       "      <th>wiki_name</th>\n",
       "    </tr>\n",
       "  </thead>\n",
       "  <tbody>\n",
       "    <tr>\n",
       "      <th>0</th>\n",
       "      <td>Air Force</td>\n",
       "      <td>100</td>\n",
       "      <td>Air Force</td>\n",
       "    </tr>\n",
       "    <tr>\n",
       "      <th>1</th>\n",
       "      <td>Akron</td>\n",
       "      <td>100</td>\n",
       "      <td>Akron</td>\n",
       "    </tr>\n",
       "    <tr>\n",
       "      <th>2</th>\n",
       "      <td>Alabama</td>\n",
       "      <td>100</td>\n",
       "      <td>Alabama</td>\n",
       "    </tr>\n",
       "    <tr>\n",
       "      <th>3</th>\n",
       "      <td>Appalachian State</td>\n",
       "      <td>100</td>\n",
       "      <td>Appalachian State</td>\n",
       "    </tr>\n",
       "    <tr>\n",
       "      <th>4</th>\n",
       "      <td>Arizona</td>\n",
       "      <td>100</td>\n",
       "      <td>Arizona</td>\n",
       "    </tr>\n",
       "  </tbody>\n",
       "</table>\n",
       "</div>"
      ],
      "text/plain": [
       "         yearly_name  score          wiki_name\n",
       "0          Air Force    100          Air Force\n",
       "1              Akron    100              Akron\n",
       "2            Alabama    100            Alabama\n",
       "3  Appalachian State    100  Appalachian State\n",
       "4            Arizona    100            Arizona"
      ]
     },
     "execution_count": 25,
     "metadata": {},
     "output_type": "execute_result"
    }
   ],
   "source": [
    "# try to match the school names from wiki_schools to yearly_schools\n",
    "\n",
    "# create a dictionary of school names from wiki_schools and yearly_schools\n",
    "school_dict = {}\n",
    "\n",
    "# loop through wiki_schools and try to match to yearly_schools\n",
    "for school in wiki_schools:\n",
    "    # try to match the school name to yearly_schools\n",
    "    match = process.extractOne(school, yearly_schools)\n",
    "    # add the school name and match to the dictionary\n",
    "    school_dict[school] = match\n",
    "\n",
    "    \n",
    "                           \n",
    "\n",
    "# create a dataframe from the dictionary\n",
    "school_dict_df = pd.DataFrame.from_dict(school_dict, orient='index')\n",
    "school_dict_df.columns = ['yearly_name', 'score']\n",
    "# create new column with school name from wiki_schools\n",
    "school_dict_df['wiki_name'] = school_dict_df.index\n",
    "# reset the index\n",
    "school_dict_df.reset_index(drop=True, inplace=True)\n",
    "\n",
    "# view the dataframe\n",
    "school_dict_df.head()\n",
    "\n"
   ]
  },
  {
   "cell_type": "code",
   "execution_count": 26,
   "metadata": {},
   "outputs": [
    {
     "data": {
      "text/plain": [
       "<AxesSubplot:>"
      ]
     },
     "execution_count": 26,
     "metadata": {},
     "output_type": "execute_result"
    },
    {
     "data": {
      "image/png": "[encoded data removed]",
      "text/plain": [
       "<Figure size 432x288 with 1 Axes>"
      ]
     },
     "metadata": {
      "needs_background": "light"
     },
     "output_type": "display_data"
    }
   ],
   "source": [
    "## histogrtaam of scores\n",
    "school_dict_df['score'].hist(bins=20)"
   ]
  }
 ],
 "metadata": {
  "kernelspec": {
   "display_name": "base",
   "language": "python",
   "name": "python3"
  },
  "language_info": {
   "codemirror_mode": {
    "name": "ipython",
    "version": 3
   },
   "file_extension": ".py",
   "mimetype": "text/x-python",
   "name": "python",
   "nbconvert_exporter": "python",
   "pygments_lexer": "ipython3",
   "version": "3.9.12"
  },
  "orig_nbformat": 4
 },
 "nbformat": 4,
 "nbformat_minor": 2
}
